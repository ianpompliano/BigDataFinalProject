{
 "cells": [
  {
   "cell_type": "code",
   "execution_count": 23,
   "id": "92b8f65b",
   "metadata": {},
   "outputs": [],
   "source": [
    "import pandas as pd\n",
    "from nltk.tokenize import word_tokenize\n",
    "from gensim import models\n",
    "from gensim.models import Word2Vec\n",
    "from tabulate import tabulate"
   ]
  },
  {
   "cell_type": "code",
   "execution_count": 11,
   "id": "52622e3c",
   "metadata": {},
   "outputs": [],
   "source": [
    "adj_string = \"adorable adventurous aggressive agreeable alert alive amused angry annoyed annoying anxious arrogant ashamed attractive average awful bad beautiful better bewildered black bloody blue blue-eyed blushing bored brainy brave breakable bright busy calm careful cautious charming cheerful clean clear clever cloudy clumsy colorful combative comfortable concerned condemned confused cooperative courageous crazy creepy crowded cruel curious cute dangerous dark dead defeated defiant delightful depressed determined different difficult disgusted distinct disturbed dizzy doubtful drab dull eager easy elated elegant embarrassed enchanting encouraging energetic enthusiastic envious evil excited expensive exuberant fair faithful famous fancy fantastic fierce filthy fine foolish fragile frail frantic friendly frightened funny gentle gifted glamorous gleaming glorious good gorgeous graceful grieving grotesque grumpy handsome happy healthy helpful helpless hilarious homeless homely horrible hungry hurt ill important impossible inexpensive innocent inquisitive itchy jealous jittery jolly joyous kind lazy light lively lonely long lovely lucky magnificent misty modern motionless muddy mushy mysterious nasty naughty nervous nice nutty obedient obnoxious odd old-fashioned open outrageous outstanding panicky perfect plain pleasant poised poor powerful precious prickly proud putrid puzzled quaint real relieved repulsive rich scary selfish shiny shy silly sleepy smiling smoggy sore sparkling splendid spotless stormy strange stupid successful super talented tame tasty tender tense terrible thankful thoughtful thoughtless tired tough troubled ugliest ugly uninterested unsightly unusual upset uptight vast victorious vivacious wandering weary wicked wide-eyed wild witty worried worrisome wrong zany zealous\"\n",
    "\n",
    "adjs = adj_string.split()"
   ]
  },
  {
   "cell_type": "code",
   "execution_count": 12,
   "id": "80eb7512",
   "metadata": {},
   "outputs": [],
   "source": [
    "df1960s = pd.read_csv('df1960s.csv', index_col=0)\n",
    "df1970s = pd.read_csv('df1970s.csv', index_col=0)\n",
    "df1980s = pd.read_csv('df1980s.csv', index_col=0)\n",
    "df1990s = pd.read_csv('df1990s.csv', index_col=0)\n",
    "df2000s = pd.read_csv('df2000s.csv', index_col=0)\n",
    "df2010s = pd.read_csv('df2010s.csv', index_col=0)"
   ]
  },
  {
   "cell_type": "code",
   "execution_count": 13,
   "id": "c3c4ccfa",
   "metadata": {},
   "outputs": [],
   "source": [
    "def data_cleaning(decade):\n",
    "    songs = []\n",
    "    for index, row in decade.iterrows():\n",
    "        cur_song = word_tokenize(str(row['Lyrics']))\n",
    "        songs.append(cur_song)\n",
    "    return songs"
   ]
  },
  {
   "cell_type": "code",
   "execution_count": 14,
   "id": "cac3fc3a",
   "metadata": {},
   "outputs": [],
   "source": [
    "corpus1960s = data_cleaning(df1960s)\n",
    "corpus1970s = data_cleaning(df1970s)\n",
    "corpus1980s = data_cleaning(df1980s)\n",
    "corpus1990s = data_cleaning(df1990s)\n",
    "corpus2000s = data_cleaning(df2000s)\n",
    "corpus2010s = data_cleaning(df2010s)"
   ]
  },
  {
   "cell_type": "code",
   "execution_count": 15,
   "id": "3de28362",
   "metadata": {},
   "outputs": [
    {
     "data": {
      "text/plain": [
       "472"
      ]
     },
     "execution_count": 15,
     "metadata": {},
     "output_type": "execute_result"
    }
   ],
   "source": [
    "len(corpus1960s)"
   ]
  },
  {
   "cell_type": "code",
   "execution_count": 16,
   "id": "ce7b6fc6",
   "metadata": {},
   "outputs": [],
   "source": [
    "model1960 = Word2Vec(sentences = corpus1960s, window=4, min_count=5, workers=4, sg=1)\n",
    "model1970 = Word2Vec(sentences = corpus1970s, window=4, min_count=5, workers=4, sg=1)\n",
    "model1980 = Word2Vec(sentences = corpus1980s, window=4, min_count=5, workers=4, sg=1)\n",
    "model1990 = Word2Vec(sentences = corpus1990s, window=4, min_count=5, workers=4, sg=1)\n",
    "model2000 = Word2Vec(sentences = corpus2000s, window=4, min_count=5, workers=4, sg=1)\n",
    "model2010 = Word2Vec(sentences = corpus2010s, window=4, min_count=5, workers=4, sg=1)"
   ]
  },
  {
   "cell_type": "code",
   "execution_count": 17,
   "id": "de2f71b6",
   "metadata": {},
   "outputs": [],
   "source": [
    "def corpusToSet(corpus):\n",
    "    wordBank = set()\n",
    "    for sentence in corpus:\n",
    "        for word in sentence:\n",
    "            wordBank.add(word)\n",
    "    return wordBank"
   ]
  },
  {
   "cell_type": "code",
   "execution_count": 18,
   "id": "de4f5286",
   "metadata": {},
   "outputs": [],
   "source": [
    "wordBank60s = corpusToSet(corpus1960s)\n",
    "wordBank70s = corpusToSet(corpus1970s)\n",
    "wordBank80s = corpusToSet(corpus1980s)\n",
    "wordBank90s = corpusToSet(corpus1990s)\n",
    "wordBank00s = corpusToSet(corpus2000s)\n",
    "wordBank10s = corpusToSet(corpus2010s)"
   ]
  },
  {
   "cell_type": "code",
   "execution_count": 19,
   "id": "6baa6ce1",
   "metadata": {},
   "outputs": [],
   "source": [
    "def getDistances(model, bank, key, adjOnly=False):\n",
    "    distances = dict()\n",
    "    for word in bank:\n",
    "        if(word in adjs) or (adjOnly==False):\n",
    "            if word in model.wv.index_to_key:\n",
    "                dist = model.wv.distance(word, key)\n",
    "                distances[word]=dist\n",
    "    sortedDistances = dict(sorted(distances.items(), key=lambda item: item[1]))\n",
    "    return sortedDistances\n",
    "    "
   ]
  },
  {
   "cell_type": "code",
   "execution_count": 24,
   "id": "c85908c1",
   "metadata": {},
   "outputs": [],
   "source": [
    "girl60 = getDistances(model1960, wordBank60s, 'girl', adjOnly = True)\n",
    "girl70 = getDistances(model1970, wordBank70s, 'girl', adjOnly = True)\n",
    "girl80 = getDistances(model1980, wordBank80s, 'girl', adjOnly = True)\n",
    "girl90 = getDistances(model1990, wordBank90s, 'girl', adjOnly = True)\n",
    "girl00 = getDistances(model2000, wordBank00s, 'girl', adjOnly = True)\n",
    "girl10 = getDistances(model2010, wordBank10s, 'girl', adjOnly = True)"
   ]
  },
  {
   "cell_type": "code",
   "execution_count": 29,
   "id": "e3f9d660",
   "metadata": {},
   "outputs": [],
   "source": [
    "wom60 = getDistances(model1960, wordBank60s, 'woman', adjOnly = True)\n",
    "wom70 = getDistances(model1970, wordBank70s, 'woman', adjOnly = True)\n",
    "wom80 = getDistances(model1980, wordBank80s, 'woman', adjOnly = True)\n",
    "wom90 = getDistances(model1990, wordBank90s, 'woman', adjOnly = True)\n",
    "wom00 = getDistances(model2000, wordBank00s, 'woman', adjOnly = True)\n",
    "wom10 = getDistances(model2010, wordBank10s, 'woman', adjOnly = True)"
   ]
  },
  {
   "cell_type": "code",
   "execution_count": 30,
   "id": "b47e0490",
   "metadata": {},
   "outputs": [],
   "source": [
    "boy60 = getDistances(model1960, wordBank60s, 'boy', adjOnly = True)\n",
    "boy70 = getDistances(model1970, wordBank70s, 'boy', adjOnly = True)\n",
    "boy80 = getDistances(model1980, wordBank80s, 'boy', adjOnly = True)\n",
    "boy90 = getDistances(model1990, wordBank90s, 'boy', adjOnly = True)\n",
    "boy00 = getDistances(model2000, wordBank00s, 'boy', adjOnly = True)\n",
    "boy10 = getDistances(model2010, wordBank10s, 'boy', adjOnly = True)"
   ]
  },
  {
   "cell_type": "code",
   "execution_count": 31,
   "id": "294f76af",
   "metadata": {},
   "outputs": [],
   "source": [
    "man60 = getDistances(model1960, wordBank60s, 'man', adjOnly = True)\n",
    "man70 = getDistances(model1970, wordBank70s, 'man', adjOnly = True)\n",
    "man80 = getDistances(model1980, wordBank80s, 'man', adjOnly = True)\n",
    "man90 = getDistances(model1990, wordBank90s, 'man', adjOnly = True)\n",
    "man00 = getDistances(model2000, wordBank00s, 'man', adjOnly = True)\n",
    "man10 = getDistances(model2010, wordBank10s, 'man', adjOnly = True)"
   ]
  },
  {
   "cell_type": "code",
   "execution_count": null,
   "id": "cd23a851",
   "metadata": {},
   "outputs": [],
   "source": [
    "fuck60 = getDistances(model1960, wordBank60s, 'damn')\n",
    "fuck70 = getDistances(model1970, wordBank70s, 'damn')\n",
    "fuck80 = getDistances(model1980, wordBank80s, 'damn')\n",
    "fuck90 = getDistances(model1990, wordBank90s, 'damn')\n",
    "fuck00 = getDistances(model2000, wordBank00s, 'damn')\n",
    "fuck10 = getDistances(model2010, wordBank10s, 'damn')"
   ]
  },
  {
   "cell_type": "code",
   "execution_count": 37,
   "id": "77a80b72",
   "metadata": {
    "scrolled": true
   },
   "outputs": [
    {
     "name": "stdout",
     "output_type": "stream",
     "text": [
      "╒════════╤═════════╤═════════╤═════════╤═══════════╤═══════════╤═════════════╕\n",
      "│   Rank │ 1960s   │ 1970s   │ 1980s   │ 1990s     │ 2000s     │ 2010s       │\n",
      "╞════════╪═════════╪═════════╪═════════╪═══════════╪═══════════╪═════════════╡\n",
      "│      1 │ fine    │ rich    │ naughty │ kind      │ naughty   │ calm        │\n",
      "├────────┼─────────┼─────────┼─────────┼───────────┼───────────┼─────────────┤\n",
      "│      2 │ ugly    │ lonely  │ kind    │ angry     │ dangerous │ comfortable │\n",
      "├────────┼─────────┼─────────┼─────────┼───────────┼───────────┼─────────────┤\n",
      "│      3 │ proud   │ fine    │ perfect │ funny     │ lovely    │ perfect     │\n",
      "├────────┼─────────┼─────────┼─────────┼───────────┼───────────┼─────────────┤\n",
      "│      4 │ nice    │ bad     │ nice    │ different │ easy      │ beautiful   │\n",
      "├────────┼─────────┼─────────┼─────────┼───────────┼───────────┼─────────────┤\n",
      "│      5 │ kind    │ nice    │ careful │ perfect   │ happy     │ proud       │\n",
      "╘════════╧═════════╧═════════╧═════════╧═══════════╧═══════════╧═════════════╛\n"
     ]
    }
   ],
   "source": [
    "col_names = ['Rank','1960s', '1970s', '1980s', '1990s', '2000s', '2010s']\n",
    "girl_data = [[1, list(girl60.keys())[0], list(girl70.keys())[0], list(girl80.keys())[0], list(girl90.keys())[0], list(girl00.keys())[0], list(girl10.keys())[0]],\n",
    "            [2, list(girl60.keys())[1], list(girl70.keys())[1], list(girl80.keys())[1], list(girl90.keys())[1], list(girl00.keys())[1], list(girl10.keys())[1]],\n",
    "            [3, list(girl60.keys())[2], list(girl70.keys())[2], list(girl80.keys())[2], list(girl90.keys())[2], list(girl00.keys())[2], list(girl10.keys())[2]],\n",
    "            [4, list(girl60.keys())[3], list(girl70.keys())[3], list(girl80.keys())[3], list(girl90.keys())[3], list(girl00.keys())[3], list(girl10.keys())[3]],\n",
    "            [5, list(girl60.keys())[4], list(girl70.keys())[4], list(girl80.keys())[4], list(girl90.keys())[4], list(girl00.keys())[4], list(girl10.keys())[4]]]\n",
    "\n",
    "print(tabulate(girl_data, headers=col_names, tablefmt=\"fancy_grid\"))"
   ]
  },
  {
   "cell_type": "code",
   "execution_count": 38,
   "id": "2bd28c16",
   "metadata": {},
   "outputs": [
    {
     "name": "stdout",
     "output_type": "stream",
     "text": [
      "╒════════╤═════════╤═══════════╤═══════════╤═══════════╤═══════════╤═══════════╕\n",
      "│   Rank │ 1960s   │ 1970s     │ 1980s     │ 1990s     │ 2000s     │ 2010s     │\n",
      "╞════════╪═════════╪═══════════╪═══════════╪═══════════╪═══════════╪═══════════╡\n",
      "│      1 │ wrong   │ clean     │ naughty   │ crazy     │ busy      │ dangerous │\n",
      "├────────┼─────────┼───────────┼───────────┼───────────┼───────────┼───────────┤\n",
      "│      2 │ bad     │ tired     │ lovely    │ dangerous │ clumsy    │ worried   │\n",
      "├────────┼─────────┼───────────┼───────────┼───────────┼───────────┼───────────┤\n",
      "│      3 │ tough   │ beautiful │ glamorous │ different │ expensive │ strange   │\n",
      "├────────┼─────────┼───────────┼───────────┼───────────┼───────────┼───────────┤\n",
      "│      4 │ nice    │ tender    │ nice      │ angry     │ angry     │ funny     │\n",
      "├────────┼─────────┼───────────┼───────────┼───────────┼───────────┼───────────┤\n",
      "│      5 │ proud   │ innocent  │ perfect   │ excited   │ lucky     │ selfish   │\n",
      "╘════════╧═════════╧═══════════╧═══════════╧═══════════╧═══════════╧═══════════╛\n"
     ]
    }
   ],
   "source": [
    "woman_data = [[1, list(wom60.keys())[0], list(wom70.keys())[0], list(wom80.keys())[0], list(wom90.keys())[0], list(wom00.keys())[0], list(wom10.keys())[0]],\n",
    "            [2, list(wom60.keys())[1], list(wom70.keys())[1], list(wom80.keys())[1], list(wom90.keys())[1], list(wom00.keys())[1], list(wom10.keys())[1]],\n",
    "            [3, list(wom60.keys())[2], list(wom70.keys())[2], list(wom80.keys())[2], list(wom90.keys())[2], list(wom00.keys())[2], list(wom10.keys())[2]],\n",
    "            [4, list(wom60.keys())[3], list(wom70.keys())[3], list(wom80.keys())[3], list(wom90.keys())[3], list(wom00.keys())[3], list(wom10.keys())[3]],\n",
    "            [5, list(wom60.keys())[4], list(wom70.keys())[4], list(wom80.keys())[4], list(wom90.keys())[4], list(wom00.keys())[4], list(wom10.keys())[4]]]\n",
    "\n",
    "print(tabulate(woman_data, headers=col_names, tablefmt=\"fancy_grid\"))"
   ]
  },
  {
   "cell_type": "code",
   "execution_count": 39,
   "id": "91d10fb8",
   "metadata": {},
   "outputs": [
    {
     "name": "stdout",
     "output_type": "stream",
     "text": [
      "╒════════╤══════════╤═════════╤═════════╤══════════╤═══════════╤═════════╕\n",
      "│   Rank │ 1960s    │ 1970s   │ 1980s   │ 1990s    │ 2000s     │ 2010s   │\n",
      "╞════════╪══════════╪═════════╪═════════╪══════════╪═══════════╪═════════╡\n",
      "│      1 │ super    │ lonely  │ wild    │ confused │ funny     │ worried │\n",
      "├────────┼──────────┼─────────┼─────────┼──────────┼───────────┼─────────┤\n",
      "│      2 │ strange  │ rich    │ dead    │ hurt     │ tasty     │ calm    │\n",
      "├────────┼──────────┼─────────┼─────────┼──────────┼───────────┼─────────┤\n",
      "│      3 │ tame     │ blue    │ lovely  │ bad      │ easy      │ tired   │\n",
      "├────────┼──────────┼─────────┼─────────┼──────────┼───────────┼─────────┤\n",
      "│      4 │ black    │ misty   │ funny   │ silly    │ shy       │ tough   │\n",
      "├────────┼──────────┼─────────┼─────────┼──────────┼───────────┼─────────┤\n",
      "│      5 │ confused │ lazy    │ naughty │ happy    │ dangerous │ nice    │\n",
      "╘════════╧══════════╧═════════╧═════════╧══════════╧═══════════╧═════════╛\n"
     ]
    }
   ],
   "source": [
    "boy_data = [[1, list(boy60.keys())[0], list(boy70.keys())[0], list(boy80.keys())[0], list(boy90.keys())[0], list(boy00.keys())[0], list(boy10.keys())[0]],\n",
    "            [2, list(boy60.keys())[1], list(boy70.keys())[1], list(boy80.keys())[1], list(boy90.keys())[1], list(boy00.keys())[1], list(boy10.keys())[1]],\n",
    "            [3, list(boy60.keys())[2], list(boy70.keys())[2], list(boy80.keys())[2], list(boy90.keys())[2], list(boy00.keys())[2], list(boy10.keys())[2]],\n",
    "            [4, list(boy60.keys())[3], list(boy70.keys())[3], list(boy80.keys())[3], list(boy90.keys())[3], list(boy00.keys())[3], list(boy10.keys())[3]],\n",
    "            [5, list(boy60.keys())[4], list(boy70.keys())[4], list(boy80.keys())[4], list(boy90.keys())[4], list(boy00.keys())[4], list(boy10.keys())[4]]]\n",
    "\n",
    "print(tabulate(boy_data, headers=col_names, tablefmt=\"fancy_grid\"))"
   ]
  },
  {
   "cell_type": "code",
   "execution_count": 40,
   "id": "5da1880f",
   "metadata": {},
   "outputs": [
    {
     "name": "stdout",
     "output_type": "stream",
     "text": [
      "╒════════╤═════════╤══════════╤═════════╤═════════╤═════════╤═════════════╕\n",
      "│   Rank │ 1960s   │ 1970s    │ 1980s   │ 1990s   │ 2000s   │ 2010s       │\n",
      "╞════════╪═════════╪══════════╪═════════╪═════════╪═════════╪═════════════╡\n",
      "│      1 │ dead    │ rich     │ nice    │ good    │ hungry  │ worried     │\n",
      "├────────┼─────────┼──────────┼─────────┼─────────┼─────────┼─────────────┤\n",
      "│      2 │ alive   │ innocent │ weary   │ lucky   │ worried │ nice        │\n",
      "├────────┼─────────┼──────────┼─────────┼─────────┼─────────┼─────────────┤\n",
      "│      3 │ foolish │ misty    │ lovely  │ tough   │ stupid  │ rich        │\n",
      "├────────┼─────────┼──────────┼─────────┼─────────┼─────────┼─────────────┤\n",
      "│      4 │ lovely  │ foolish  │ strange │ funny   │ fair    │ comfortable │\n",
      "├────────┼─────────┼──────────┼─────────┼─────────┼─────────┼─────────────┤\n",
      "│      5 │ famous  │ lazy     │ careful │ kind    │ shy     │ funny       │\n",
      "╘════════╧═════════╧══════════╧═════════╧═════════╧═════════╧═════════════╛\n"
     ]
    }
   ],
   "source": [
    "man_data = [[1, list(man60.keys())[0], list(man70.keys())[0], list(man80.keys())[0], list(man90.keys())[0], list(man00.keys())[0], list(man10.keys())[0]],\n",
    "            [2, list(man60.keys())[1], list(man70.keys())[1], list(man80.keys())[1], list(man90.keys())[1], list(man00.keys())[1], list(man10.keys())[1]],\n",
    "            [3, list(man60.keys())[2], list(man70.keys())[2], list(man80.keys())[2], list(man90.keys())[2], list(man00.keys())[2], list(man10.keys())[2]],\n",
    "            [4, list(man60.keys())[3], list(man70.keys())[3], list(man80.keys())[3], list(man90.keys())[3], list(man00.keys())[3], list(man10.keys())[3]],\n",
    "            [5, list(man60.keys())[4], list(man70.keys())[4], list(man80.keys())[4], list(man90.keys())[4], list(man00.keys())[4], list(man10.keys())[4]]]\n",
    "\n",
    "print(tabulate(man_data, headers=col_names, tablefmt=\"fancy_grid\"))"
   ]
  },
  {
   "cell_type": "code",
   "execution_count": null,
   "id": "250276de",
   "metadata": {},
   "outputs": [],
   "source": []
  }
 ],
 "metadata": {
  "kernelspec": {
   "display_name": "Python 3 (ipykernel)",
   "language": "python",
   "name": "python3"
  },
  "language_info": {
   "codemirror_mode": {
    "name": "ipython",
    "version": 3
   },
   "file_extension": ".py",
   "mimetype": "text/x-python",
   "name": "python",
   "nbconvert_exporter": "python",
   "pygments_lexer": "ipython3",
   "version": "3.11.4"
  }
 },
 "nbformat": 4,
 "nbformat_minor": 5
}
