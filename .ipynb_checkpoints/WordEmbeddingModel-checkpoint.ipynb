{
 "cells": [
  {
   "cell_type": "code",
   "execution_count": 1,
   "id": "92b8f65b",
   "metadata": {},
   "outputs": [],
   "source": [
    "import pandas as pd"
   ]
  },
  {
   "cell_type": "code",
   "execution_count": 2,
   "id": "804b577a",
   "metadata": {},
   "outputs": [],
   "source": [
    "df1960s = pd.read_csv('df1960s.csv', index_col=0)\n",
    "df1970s = pd.read_csv('df1970s.csv', index_col=0)\n",
    "df1980s = pd.read_csv('df1980s.csv', index_col=0)\n",
    "df1990s = pd.read_csv('df1990s.csv', index_col=0)\n",
    "df2000s = pd.read_csv('df2000s.csv', index_col=0)\n",
    "df2010s = pd.read_csv('df2010s.csv', index_col=0)"
   ]
  },
  {
   "cell_type": "code",
   "execution_count": 3,
   "id": "42259896",
   "metadata": {},
   "outputs": [],
   "source": [
    "def data_cleaning(decade):\n",
    "    songs = []\n",
    "    for index, row in decade.iterrows():\n",
    "        cur_song = word_tokenize(row['Lyrics'])\n",
    "        songs.append(cur_song)\n",
    "    return songs"
   ]
  },
  {
   "cell_type": "code",
   "execution_count": null,
   "id": "f81a5de3",
   "metadata": {},
   "outputs": [],
   "source": []
  }
 ],
 "metadata": {
  "kernelspec": {
   "display_name": "Python 3 (ipykernel)",
   "language": "python",
   "name": "python3"
  },
  "language_info": {
   "codemirror_mode": {
    "name": "ipython",
    "version": 3
   },
   "file_extension": ".py",
   "mimetype": "text/x-python",
   "name": "python",
   "nbconvert_exporter": "python",
   "pygments_lexer": "ipython3",
   "version": "3.11.4"
  }
 },
 "nbformat": 4,
 "nbformat_minor": 5
}
