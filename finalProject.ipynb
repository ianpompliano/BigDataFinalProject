{
 "cells": [
  {
   "cell_type": "markdown",
   "metadata": {},
   "source": [
    "# Final Project - Lainie Cederholm, Will Novak, Ian Pompliano"
   ]
  },
  {
   "cell_type": "markdown",
   "metadata": {},
   "source": [
    "**Part 1: Scrape top 50 songs of each year (1960 to present) from Billboard Year-End Hot 100 singles (Wikipedia)**"
   ]
  },
  {
   "cell_type": "code",
   "execution_count": 8,
   "metadata": {},
   "outputs": [],
   "source": [
    "import requests\n",
    "from bs4 import BeautifulSoup\n",
    "\n",
    "# function to scrape top 50 songs for a given year\n",
    "def scrapeBillboardYear(year):\n",
    "    url = f\"https://en.wikipedia.org/wiki/Billboard_Year-End_Hot_100_singles_of_{year}\"\n",
    "    response = requests.get(url)\n",
    "    \n",
    "    # takes HTML content of web-page and parses it using parser provided by BeautifulSoup \n",
    "    soup = BeautifulSoup(response.content, 'html.parser')\n",
    "    \n",
    "    # takes first table from given page (the table we are interested in)\n",
    "    tables = soup.find_all('table', class_='wikitable')\n",
    "    songsTable = tables[0]\n",
    "    \n",
    "    # excludes first row containing headers\n",
    "    rows = songsTable.find_all('tr')[1:]\n",
    "    \n",
    "    # initialize list of top songs\n",
    "    topSongs = []\n",
    "    \n",
    "    # iterates through first 50 songs and appends song list\n",
    "    for row in rows[:50]:  \n",
    "            columns = row.find_all(['td', 'th'])\n",
    "            songInfo = [col.get_text(strip=True) for col in columns]\n",
    "            topSongs.append(songInfo)\n",
    "            \n",
    "    return topSongs"
   ]
  },
  {
   "cell_type": "code",
   "execution_count": 16,
   "metadata": {},
   "outputs": [],
   "source": [
    "# create lists that will hold all song data for each decade\n",
    "list1960s = []\n",
    "list1970s = []\n",
    "list1980s = []\n",
    "list1990s = []\n",
    "list2000s = []\n",
    "list2010s = []\n",
    "\n",
    "# append respective lists with song/artist data \n",
    "for year in range(1960, 1970):\n",
    "    yearData = scrapeBillboardYear(year)\n",
    "    for data in yearData:\n",
    "        list1960s.append(data)\n",
    "for year in range(1970, 1980):\n",
    "    yearData = scrapeBillboardYear(year)\n",
    "    for data in yearData:\n",
    "        list1970s.append(data)\n",
    "for year in range(1980, 1990):\n",
    "    yearData = scrapeBillboardYear(year)\n",
    "    for data in yearData:\n",
    "        list1980s.append(data)\n",
    "for year in range(1990, 2000):\n",
    "    yearData = scrapeBillboardYear(year)\n",
    "    for data in yearData:\n",
    "        list1990s.append(data)\n",
    "for year in range(2000, 2010):\n",
    "    yearData = scrapeBillboardYear(year)\n",
    "    for data in yearData:\n",
    "        list2000s.append(data)\n",
    "for year in range(2010, 2020):\n",
    "    yearData = scrapeBillboardYear(year)\n",
    "    for data in yearData:\n",
    "        list2010s.append(data)"
   ]
  },
  {
   "cell_type": "code",
   "execution_count": 18,
   "metadata": {},
   "outputs": [
    {
     "name": "stdout",
     "output_type": "stream",
     "text": [
      "[['1', '\"Theme from A Summer Place\"', 'Percy Faith'], ['2', '\"He\\'ll Have to Go\"', 'Jim Reeves'], ['3', '\"Cathy\\'s Clown\"', 'The Everly Brothers'], ['4', '\"Running Bear\"', 'Johnny Preston'], ['5', '\"Teen Angel\"', 'Mark Dinning'], ['6', '\"I\\'m Sorry\"', 'Brenda Lee'], ['7', '\"It\\'s Now or Never\"', 'Elvis Presley'], ['8', '\"Handy Man\"', 'Jimmy Jones'], ['9', '\"Stuck on You\"', 'Elvis Presley'], ['10', '\"The Twist\"', 'Chubby Checker'], ['11', '\"Everybody\\'s Somebody\\'s Fool\"', 'Connie Francis'], ['12', '\"Wild One\"', 'Bobby Rydell'], ['13', '\"Greenfields\"', 'The Brothers Four'], ['14', '\"What in the World\\'s Come Over You\"', 'Jack Scott'], ['15', '\"El Paso\"', 'Marty Robbins'], ['16', '\"Alley Oop\"', 'The Hollywood Argyles'], ['17', '\"My Heart Has a Mind of Its Own\"', 'Connie Francis'], ['18', '\"Sweet Nothin\\'s\"', 'Brenda Lee'], ['19', '\"Itsy Bitsy Teenie Weenie Yellow Polka Dot Bikini\"', 'Brian Hyland'], ['20', '\"Only the Lonely\"', 'Roy Orbison'], ['21', '\"Where or When\"', 'Dion and the Belmonts'], ['22', '\"Sixteen Reasons\"', 'Connie Stevens'], ['23', '\"Puppy Love\"', 'Paul Anka'], ['24', '\"Why\"', 'Frankie Avalon'], ['25', '\"Walk, Don\\'t Run\"', 'The Ventures'], ['26', '\"Save the Last Dance for Me\"', 'The Drifters'], ['27', '\"Baby (You\\'ve Got What It Takes)\"', 'Dinah Washington&Brook Benton'], ['28', '\"Sink the Bismarck\"', 'Johnny Horton'], ['29', '\"Chain Gang\"', 'Sam Cooke'], ['30', '\"Let It Be Me\"', 'The Everly Brothers'], ['31', '\"Good Timin\\'\"', 'Jimmy Jones'], ['32', '\"Beyond the Sea\"', 'Bobby Darin'], ['33', '\"Go, Jimmy, Go\"', 'Jimmy Clanton'], ['34', '\"Night\"', 'Jackie Wilson'], ['35', '\"Burning Bridges\"', 'Jack Scott'], ['36', '\"The Big Hurt\"', 'Toni Fisher'], ['37', '\"Because They\\'re Young\"', 'Duane Eddy'], ['38', '\"Lonely Blue Boy\"', 'Conway Twitty'], ['39', '\"Pretty Blue Eyes\"', 'Steve Lawrence'], ['40', '\"Way Down Yonder in New Orleans\"', 'Freddy Cannon'], ['41', '\"Paper Roses\"', 'Anita Bryant'], ['42', '\"Mr. Custer\"', 'Larry Verne'], ['43', '\"I Want to Be Wanted\"', 'Brenda Lee'], ['44', '\"Mule Skinner Blues\"', 'The Fendermen'], ['45', '\"Cradle of Love\"', 'Johnny Preston'], ['46', '\"You Got What It Takes\"', 'Marv Johnson'], ['47', '\"Please Help Me, I\\'m Falling\"', 'Hank Locklin'], ['48', '\"Love You So\"', 'Ron Holden'], ['49', '\"Finger Poppin\\' Time\"', 'Hank Ballard&The Midnighters'], ['50', '\"Harbor Lights\"', 'The Platters'], ['1', '\"Tossin\\' and Turnin\\'\"', 'Bobby Lewis'], ['2', '\"I Fall to Pieces\"', 'Patsy Cline'], ['3', '\"Michael\"', 'The Highwaymen'], ['4', '\"Crying\"', 'Roy Orbison'], ['5', '\"Runaway\"', 'Del Shannon'], ['6', '\"My True Story\"', 'The Jive Five'], ['7', '\"Pony Time\"', 'Chubby Checker'], ['8', '\"Wheels\"', 'The String-A-Longs'], ['9', '\"Raindrops\"', 'Dee Clark'], ['10', '\"Wooden Heart\"', 'Joe Dowell'], ['11', '\"Calcutta\"', 'Lawrence Welk'], ['12', '\"Take Good Care of My Baby\"', 'Bobby Vee'], ['13', '\"Running Scared\"', 'Roy Orbison'], ['14', '\"Dedicated to the One I Love\"', 'The Shirelles'], ['15', '\"Last Night\"', 'The Mar-Keys'], ['16', '\"Will You Love Me Tomorrow\"', 'The Shirelles'], ['17', '\"Exodus\"', 'Ferrante & Teicher'], ['18', '\"Where the Boys Are\"', 'Connie Francis'], ['19', '\"Hit the Road Jack\"', 'Ray Charles'], ['20', '\"Sad Movies (Make Me Cry)\"', 'Sue Thompson'], ['21', '\"Mother-in-Law\"', 'Ernie K-Doe'], ['22', '\"Bristol Stomp\"', 'The Dovells'], ['23', '\"Travelin\\' Man\"', 'Ricky Nelson'], ['24', '\"Shop Around\"', 'The Miracles'], ['25', '\"The Boll Weevil Song\"', 'Brook Benton'], ['26', '\"A Hundred Pounds of Clay\"', 'Gene McDaniels'], ['27', '\"The Mountain\\'s High\"', 'Dick and Dee Dee'], ['28', '\"Don\\'t Worry\"', 'Marty Robbins'], ['29', '\"On the Rebound\"', 'Floyd Cramer'], ['30', '\"Portrait of My Love\"', 'Steve Lawrence'], ['31', '\"Quarter to Three\"', 'Gary U.S. Bonds'], ['32', '\"Who Put the Bomp (in the Bomp, Bomp, Bomp)\"', 'Barry Mann'], ['33', '\"Calendar Girl\"', 'Neil Sedaka'], ['34', '\"I Like It Like That\"', 'Chris Kenner'], ['35', '\"Apache\"', 'Jørgen Ingmann'], ['36', '\"Don\\'t Bet Money Honey\"', 'Linda Scott'], ['37', '\"Without You\"', 'Johnny Tillotson'], ['38', '\"Wings of a Dove\"', 'Ferlin Husky'], ['39', '\"Little Sister\"', 'Elvis Presley'], ['40', '\"Blue Moon\"', 'The Marcels'], ['41', '\"Daddy\\'s Home\"', 'Shep and the Limelites'], ['42', '\"This Time\"', 'Troy Shondell'], ['43', '\"(I Don\\'t Know Why) But I Do\"', 'Clarence \"Frogman\" Henry'], ['44', '\"Asia Minor\"', 'Kokomo'], ['45', '\"Hello Walls\"', 'Faron Young'], ['46', '\"Runaround Sue\"', 'Dion'], ['47', '\"Yellow Bird\"', 'Arthur Lyman'], ['48', '\"Hurt\"', 'Timi Yuro'], ['49', '\"Hello Mary Lou\"', 'Ricky Nelson'], ['50', '\"There\\'s a Moon Out Tonight\"', 'The Capris'], ['1', '\"Stranger on the Shore\"', 'Acker Bilk'], ['2', '\"I Can\\'t Stop Loving You\"', 'Ray Charles'], ['3', '\"Mashed Potato Time\"', 'Dee Dee Sharp'], ['4', '\"Roses Are Red (My Love)\"', 'Bobby Vinton'], ['5', '\"The Stripper\"', 'David Rose'], ['6', '\"Johnny Angel\"', 'Shelley Fabares'], ['7', '\"The Loco-Motion\"', 'Little Eva'], ['8', '\"Let Me In\"', 'The Sensations'], ['9', '\"The Twist\"', 'Chubby Checker'], ['10', '\"Soldier Boy\"', 'The Shirelles'], ['11', '\"Hey! Baby\"', 'Bruce Channel'], ['12', '\"The Wanderer\"', 'Dion'], ['13', '\"Duke of Earl\"', 'Gene Chandler'], ['14', '\"Palisades Park\"', 'Freddy Cannon'], ['15', '\"Breaking Up Is Hard to Do\"', 'Neil Sedaka'], ['16', '\"Wolverton Mountain\"', 'Claude King'], ['17', '\"Slow Twistin\\'\"', 'Chubby Checker&Dee Dee Sharp'], ['18', '\"It Keeps Right On a-Hurtin\\'\"', 'Johnny Tillotson'], ['19', '\"The One Who Really Loves You\"', 'Mary Wells'], ['20', '\"Good Luck Charm\"', 'Elvis Presley'], ['21', '\"Midnight in Moscow\"', 'Kenny Ball'], ['22', '\"Sheila\"', 'Tommy Roe'], ['23', '\"Twistin\\' the Night Away\"', 'Sam Cooke'], ['24', '\"The Wah-Watusi\"', 'The Orlons'], ['25', '\"Peppermint Twist\"', 'Joey Dee and the Starliters'], ['26', '\"Break It to Me Gently\"', 'Brenda Lee'], ['27', '\"Playboy\"', 'The Marvelettes'], ['28', '\"Ramblin\\' Rose\"', 'Nat King Cole'], ['29', '\"Sealed with a Kiss\"', 'Brian Hyland'], ['30', '\"She Cried\"', 'Jay and the Americans'], ['31', '\"Don\\'t Break the Heart That Loves You\"', 'Connie Francis'], ['32', '\"Dear Lady Twist\"', 'Gary U.S. Bonds'], ['33', '\"Norman\"', 'Sue Thompson'], ['34', '\"Love Letters\"', 'Ketty Lester'], ['35', '\"Party Lights\"', 'Claudine Clark'], ['36', '\"Cotton Fields\"', 'The Highwaymen'], ['37', '\"Alley Cat\"', 'Bent Fabric'], ['38', '\"Twist and Shout\"', 'The Isley Brothers'], ['39', '\"Theme from Dr. Kildare (Three Stars Will Shine Tonight)\"', 'Richard Chamberlain'], ['40', '\"Tuff\"', 'Ace Cannon'], ['41', '\"Lover Please\"', 'Clyde McPhatter'], ['42', '\"I Know (You Don\\'t Love Me No More)\"', 'Barbara George'], ['43', '\"Young World\"', 'Ricky Nelson'], ['44', '\"Baby It\\'s You\"', 'The Shirelles'], ['45', '\"Speedy Gonzales\"', 'Pat Boone'], ['46', '\"A Little Bitty Tear\"', 'Burl Ives'], ['47', '\"Crying in the Rain\"', 'The Everly Brothers'], ['48', '\"Al di là\"', 'Emilio Pericoli'], ['49', '\"Shout! Shout! (Knock Yourself Out)\"', 'Ernie Maresca'], ['50', '\"What\\'s Your Name\"', 'Don and Juan'], ['1', '\"Surfin\\' U.S.A.\"', 'The Beach Boys'], ['2', '\"The End of the World\"', 'Skeeter Davis'], ['3', '\"Rhythm of the Rain\"', 'The Cascades'], ['4', '\"He\\'s So Fine\"', 'The Chiffons'], ['5', '\"Blue Velvet\"', 'Bobby Vinton'], ['6', '\"Hey Paula\"', 'Paul & Paula'], ['7', '\"Fingertips\"', 'Little Stevie Wonder'], ['8', '\"Can\\'t Get Used to Losing You\"', 'Andy Williams'], ['9', '\"My Boyfriend\\'s Back\"', 'The Angels'], ['10', '\"Sukiyaki\"', 'Kyu Sakamoto'], ['11', '\"So Much in Love\"', 'The Tymes'], ['12', '\"Puff, the Magic Dragon\"', 'Peter, Paul and Mary'], ['13', '\"Blowin\\' in the Wind\"'], ['14', '\"Wipe Out\"', 'The Surfaris'], ['15', '\"I Love You Because\"', 'Al Martino'], ['16', '\"Wild Weekend\"', 'The Rebels'], ['17', '\"You\\'re the Reason I\\'m Living\"', 'Bobby Darin'], ['18', '\"Walk Like a Man\"', 'The Four Seasons'], ['19', '\"Mockingbird\"', 'Inez and Charlie Foxx'], ['20', '\"I Will Follow Him\"', 'Little Peggy March'], ['21', '\"Pipeline\"', 'The Chantays'], ['22', '\"Surf City\"', 'Jan and Dean'], ['23', '\"It\\'s My Party\"', 'Lesley Gore'], ['24', '\"Blame It on the Bossa Nova\"', 'Eydie Gormé'], ['25', '\"You Can\\'t Sit Down\"', 'The Dovells'], ['26', '\"Heat Wave\"', 'Martha and the Vandellas'], ['27', '\"Denise\"', 'Randy & the Rainbows'], ['28', '\"Walk Right In\"', 'The Rooftop Singers'], ['29', '\"If You Wanna Be Happy\"', 'Jimmy Soul'], ['30', '\"If I Had a Hammer\"', 'Trini Lopez'], ['31', '\"Easier Said Than Done\"', 'The Essex'], ['32', '\"Ruby Baby\"', 'Dion'], ['33', '\"Our Day Will Come\"', 'Ruby & the Romantics'], ['34', '\"Hello Stranger\"', 'Barbara Lewis'], ['35', '\"Be My Baby\"', 'The Ronettes'], ['36', '\"South Street\"', 'The Orlons'], ['37', '\"Days of Wine and Roses\"', 'Henry Mancini'], ['38', '\"The Monkey Time\"', 'Major Lance'], ['39', '\"Candy Girl\"', 'The Four Seasons'], ['40', '\"Sugar Shack\"', 'Jimmy Gilmer and the Fireballs'], ['41', '\"Still\"', 'Bill Anderson'], ['42', '\"Blue on Blue\"', 'Bobby Vinton'], ['43', '\"Cry Baby\"', 'Garnet Mimms& the Enchanters'], ['44', '\"Two Faces Have I\"', 'Lou Christie'], ['45', '\"Busted\"', 'Ray Charles'], ['46', '\"Da Doo Ron Ron\"', 'The Crystals'], ['47', '\"Foolish Little Girl\"', 'The Shirelles'], ['48', '\"Memphis\"', 'Lonnie Mack'], ['49', '\"In Dreams\"', 'Roy Orbison'], ['50', '\"More\"', 'Kai Winding'], ['1', '\"I Want to Hold Your Hand\"', 'The Beatles'], ['2', '\"She Loves You\"'], ['3', '\"Hello, Dolly!\"', 'Louis Armstrong'], ['4', '\"Oh, Pretty Woman\"', 'Roy Orbison'], ['5', '\"I Get Around\"', 'The Beach Boys'], ['6', '\"Everybody Loves Somebody\"', 'Dean Martin'], ['7', '\"My Guy\"', 'Mary Wells'], ['8', '\"We\\'ll Sing in the Sunshine\"', 'Gale Garnett'], ['9', '\"Last Kiss\"', 'J. Frank Wilson and the Cavaliers'], ['10', '\"Where Did Our Love Go\"', 'The Supremes'], ['11', '\"People\"', 'Barbra Streisand'], ['12', '\"Java\"', 'Al Hirt'], ['13', '\"A Hard Day\\'s Night\"', 'The Beatles'], ['14', '\"Love Me Do\"'], ['15', '\"Do Wah Diddy Diddy\"', 'Manfred Mann'], ['16', '\"Please Please Me\"', 'The Beatles'], ['17', '\"Dancing in the Street\"', 'Martha and the Vandellas'], ['18', '\"Little Children\"', 'Billy J. Kramer&The Dakotas'], ['19', '\"Love Me with All Your Heart (Cuando Calienta El Sol)\"', 'The Ray Charles Singers'], ['20', '\"Under the Boardwalk\"', 'The Drifters'], ['21', '\"Chapel of Love\"', 'The Dixie Cups'], ['22', '\"Suspicion\"', 'Terry Stafford'], ['23', '\"Glad All Over\"', 'The Dave Clark Five'], ['24', '\"Rag Doll\"', 'The Four Seasons'], ['25', '\"Dawn (Go Away)\"'], ['26', '\"Bread and Butter\"', 'The Newbeats'], ['27', '\"It Hurts to Be in Love\"', 'Gene Pitney'], ['28', '\"Dead Man\\'s Curve\"', 'Jan and Dean'], ['29', '\"Come a Little Bit Closer\"', 'Jay and the Americans'], ['30', '\"A World Without Love\"', 'Peter and Gordon'], ['31', '\"Have I the Right?\"', 'The Honeycombs'], ['32', '\"Don\\'t Let the Rain Come Down (Crooked Little Man)\"', 'The Serendipity Singers'], ['33', '\"Baby Love\"', 'The Supremes'], ['34', '\"Let It Be Me\"', 'Betty Everett&Jerry Butler'], ['35', '\"Wishin\\' and Hopin\\'\"', 'Dusty Springfield'], ['36', '\"You Don\\'t Own Me\"', 'Lesley Gore'], ['37', '\"Walk On By\"', 'Dionne Warwick'], ['38', '\"The House of the Rising Sun\"', 'The Animals'], ['39', '\"G.T.O.\"', 'Ronny & the Daytonas'], ['40', '\"Twist and Shout\"', 'The Beatles'], ['41', '\"Memphis\"', 'Johnny Rivers'], ['42', '\"White on White\"', 'Danny Williams'], ['43', '\"Hey Little Cobra\"', 'The Rip Chords'], ['44', '\"The Shoop Shoop Song (It\\'s in His Kiss)\"', 'Betty Everett'], ['45', '\"Bits and Pieces\"', 'The Dave Clark Five'], ['46', '\"My Boy Lollipop\"', 'Millie Small'], ['47', '\"Um, Um, Um, Um, Um, Um\"', 'Major Lance'], ['48', '\"The Little Old Lady (from Pasadena)\"', 'Jan and Dean'], ['49', '\"Don\\'t Let the Sun Catch You Crying\"', 'Gerry and the Pacemakers'], ['50', '\"A Summer Song\"', 'Chad & Jeremy'], ['1', '\"Wooly Bully\"', 'Sam the Sham and the Pharaohs'], ['2', '\"I Can\\'t Help Myself (Sugar Pie Honey Bunch)\"', 'Four Tops'], ['3', '\"(I Can\\'t Get No) Satisfaction\"', 'The Rolling Stones'], ['4', '\"You Were on My Mind\"', 'We Five'], ['5', '\"You\\'ve Lost That Lovin\\' Feelin\\'\"', 'The Righteous Brothers'], ['6', '\"Downtown\"', 'Petula Clark'], ['7', '\"Help!\"', 'The Beatles'], ['8', '\"Can\\'t You Hear My Heartbeat\"', \"Herman's Hermits\"], ['9', '\"Crying in the Chapel\"', 'Elvis Presley'], ['10', '\"My Girl\"', 'The Temptations'], ['11', '\"Help Me, Rhonda\"', 'The Beach Boys'], ['12', '\"King of the Road\"', 'Roger Miller'], ['13', '\"The Birds and the Bees\"', 'Jewel Akens'], ['14', '\"Hold Me, Thrill Me, Kiss Me\"', 'Mel Carter'], ['15', '\"Shotgun\"', 'Junior Walker & the All Stars'], ['16', '\"I Got You Babe\"', 'Sonny & Cher'], ['17', '\"This Diamond Ring\"', 'Gary Lewis & the Playboys'], ['18', '\"The \\'In\\' Crowd\"', 'Ramsey Lewis Trio'], ['19', '\"Mrs. Brown, You\\'ve Got a Lovely Daughter\"', \"Herman's Hermits\"], ['20', '\"Stop! In the Name of Love\"', 'The Supremes'], ['21', '\"Unchained Melody\"', 'The Righteous Brothers'], ['22', '\"Silhouettes\"', \"Herman's Hermits\"], ['23', '\"I\\'ll Never Find Another You\"', 'The Seekers'], ['24', '\"Cara Mia\"', 'Jay and the Americans'], ['25', '\"Mr. Tambourine Man\"', 'The Byrds'], ['26', '\"Cast Your Fate to the Wind\"', 'Sounds Orchestral'], ['27', '\"Yes, I\\'m Ready\"', 'Barbara Mason'], ['28', '\"What\\'s New Pussycat?\"', 'Tom Jones'], ['29', '\"Eve of Destruction\"', 'Barry McGuire'], ['30', '\"Hang On Sloopy\"', 'The McCoys'], ['31', '\"Ticket to Ride\"', 'The Beatles'], ['32', '\"Red Roses for a Blue Lady\"', 'Bert Kaempfert'], ['33', '\"Papa\\'s Got a Brand New Bag\"', 'James Brown'], ['34', '\"Game of Love\"', 'Wayne Fontana&The Mindbenders'], ['35', '\"The Name Game\"', 'Shirley Ellis'], ['36', '\"I Know a Place\"', 'Petula Clark'], ['37', '\"Back in My Arms Again\"', 'The Supremes'], ['38', '\"Baby I\\'m Yours\"', 'Barbara Lewis'], ['39', '\"The Jolly Green Giant\"', 'The Kingsmen'], ['40', '\"Hush, Hush, Sweet Charlotte\"', 'Patti Page'], ['41', '\"Like a Rolling Stone\"', 'Bob Dylan'], ['42', '\"I\\'m Telling You Now\"', 'Freddie and the Dreamers'], ['43', '\"Ferry Cross the Mersey\"', 'Gerry and the Pacemakers'], ['44', '\"Just Once in My Life\"', 'The Righteous Brothers'], ['45', '\"The Seventh Son\"', 'Johnny Rivers'], ['46', '\"I\\'m Henry the Eighth, I Am\"', \"Herman's Hermits\"], ['47', '\"A Walk in the Black Forest\"', 'Horst Jankowski'], ['48', '\"For Your Love\"', 'The Yardbirds'], ['49', '\"California Girls\"', 'The Beach Boys'], ['50', '\"Go Now\"', 'The Moody Blues'], ['1', '\"California Dreamin\\'\"', 'The Mamas & the Papas'], ['2', '\"96 Tears\"', '? and the Mysterians'], ['3', '\"What Becomes of the Brokenhearted\"', 'Jimmy Ruffin'], ['4', '\"Last Train to Clarksville\"', 'The Monkees'], ['5', '\"Reach Out I\\'ll Be There\"', 'Four Tops'], ['6', '\"These Boots Are Made for Walkin\\'\"', 'Nancy Sinatra'], ['7', '\"Cherish\"', 'The Association'], ['8', '\"Strangers in the Night\"', 'Frank Sinatra'], ['9', '\"Kicks\"', 'Paul Revere & the Raiders'], ['10', '\"The Ballad of the Green Berets\"', 'SSgt Barry Sadler'], ['11', '\"Good Lovin\\'\"', 'The Young Rascals'], ['12', '\"(You\\'re My) Soul and Inspiration\"', 'The Righteous Brothers'], ['13', '\"You Can\\'t Hurry Love\"', 'The Supremes'], ['14', '\"Sunny\"', 'Bobby Hebb'], ['15', '\"See You in September\"', 'The Happenings'], ['16', '\"Li\\'l Red Riding Hood\"', 'Sam the Sham and the Pharaohs'], ['17', '\"Lightnin\\' Strikes\"', 'Lou Christie'], ['18', '\"Poor Side of Town\"', 'Johnny Rivers'], ['19', '\"Working in the Coal Mine\"', 'Lee Dorsey'], ['20', '\"A Groovy Kind of Love\"', 'The Mindbenders'], ['21', '\"You Don\\'t Have to Say You Love Me\"', 'Dusty Springfield'], ['22', '\"Sunshine Superman\"', 'Donovan'], ['23', '\"Born a Woman\"', 'Sandy Posey'], ['24', '\"Monday, Monday\"', 'The Mamas & the Papas'], ['25', '\"Red Rubber Ball\"', 'The Cyrkle'], ['26', '\"Born Free\"', 'Roger Williams'], ['27', '\"Walk Away Renée\"', 'The Left Banke'], ['28', '\"Cool Jerk\"', 'The Capitols'], ['29', '\"B-A-B-Y\"', 'Carla Thomas'], ['30', '\"Hanky Panky\"', 'Tommy James and the Shondells'], ['31', '\"When a Man Loves a Woman\"', 'Percy Sledge'], ['32', '\"Time Won\\'t Let Me\"', 'The Outsiders'], ['33', '\"Bus Stop\"', 'The Hollies'], ['34', '\"Paint It Black\"', 'The Rolling Stones'], ['35', '\"Summer in the City\"', \"The Lovin' Spoonful\"], ['36', '\"I\\'m So Lonesome I Could Cry\"', 'B. J. Thomas & the Triumphs'], ['37', '\"My Love\"', 'Petula Clark'], ['38', '\"Daydream\"', \"The Lovin' Spoonful\"], ['39', '\"Ain\\'t Too Proud to Beg\"', 'The Temptations'], ['40', '\"Wild Thing\"', 'The Troggs'], ['41', '\"Elusive Butterfly\"', 'Bob Lind'], ['42', '\"I Am a Rock\"', 'Simon & Garfunkel'], ['43', '\"Dirty Water\"', 'The Standells'], ['44', '\"Hooray for Hazel\"', 'Tommy Roe'], ['45', '\"Crying Time\"', 'Ray Charles'], ['46', '\"Sweet Pea\"', 'Tommy Roe'], ['47', '\"Secret Agent Man\"', 'Johnny Rivers'], ['48', '\"Did You Ever Have to Make Up Your Mind?\"', \"The Lovin' Spoonful\"], ['49', '\"We Can Work It Out\"', 'The Beatles'], ['50', '\"Homeward Bound\"', 'Simon & Garfunkel'], ['1', '\"To Sir With Love\"', 'Lulu'], ['2', '\"The Letter\"', 'The Box Tops'], ['3', '\"Ode to Billie Joe\"', 'Bobbie Gentry'], ['4', '\"Windy\"', 'The Association'], ['5', '\"I\\'m a Believer\"', 'The Monkees'], ['6', '\"Light My Fire\"', 'The Doors'], ['7', '\"Somethin\\' Stupid\"', 'Frank&Nancy Sinatra'], ['8', '\"Happy Together\"', 'The Turtles'], ['9', '\"Groovin\\'\"', 'The Young Rascals'], ['10', '\"Can\\'t Take My Eyes Off You\"', 'Frankie Valli'], ['11', '\"Little Bit O\\' Soul\"', 'The Music Explosion'], ['12', '\"I Think We\\'re Alone Now\"', 'Tommy James and the Shondells'], ['13', '\"Respect\"', 'Aretha Franklin'], ['14', '\"I Was Made to Love Her\"', 'Stevie Wonder'], ['15', '\"Come Back When You Grow Up\"', 'Bobby Vee'], ['16', '\"Kind of a Drag\"', 'The Buckinghams'], ['17', '\"Sweet Soul Music\"', 'Arthur Conley'], ['18', '\"Expressway to Your Heart\"', 'Soul Survivors'], ['19', '\"Soul Man\"', 'Sam & Dave'], ['20', '\"Never My Love\"', 'The Association'], ['21', '\"Apples, Peaches, Pumpkin Pie\"', 'Jay & the Techniques'], ['22', '\"Come On Down to My Boat\"', \"Every Mother's Son\"], ['23', '\"Incense and Peppermints\"', 'Strawberry Alarm Clock'], ['24', '\"Ruby Tuesday\"', 'The Rolling Stones'], ['25', '\"It Must Be Him\"', 'Vikki Carr'], ['26', '\"Love Is Here and Now You\\'re Gone\"', 'The Supremes'], ['27', '\"For What It\\'s Worth\"', 'Buffalo Springfield'], ['28', '\"Gimme Little Sign\"', 'Brenton Wood'], ['29', '\"The Happening\"', 'The Supremes'], ['30', '\"All You Need Is Love\"', 'The Beatles'], ['31', '\"Release Me\"', 'Engelbert Humperdinck'], ['32', '\"Your Precious Love\"', 'Marvin Gaye&Tammi Terrell'], ['33', '\"Somebody to Love\"', 'Jefferson Airplane'], ['34', '\"Get on Up\"', 'The Esquires'], ['35', '\"Brown Eyed Girl\"', 'Van Morrison'], ['36', '\"Jimmy Mack\"', 'Martha and the Vandellas'], ['37', '\"I Got Rhythm\"', 'The Happenings'], ['38', '\"A Whiter Shade of Pale\"', 'Procol Harum'], ['39', '\"Don\\'t You Care\"', 'The Buckinghams'], ['40', '\"Then You Can Tell Me Goodbye\"', 'The Casinos'], ['41', '\"Reflections\"', 'The Supremes'], ['42', '\"On a Carousel\"', 'The Hollies'], ['43', '\"Please Love Me Forever\"', 'Bobby Vinton'], ['44', '\"Alfie\"', 'Dionne Warwick'], ['45', '\"Silence Is Golden\"', 'The Tremeloes'], ['46', '\"My Cup Runneth Over\"', 'Ed Ames'], ['47', '\"Up, Up and Away\"', 'The 5th Dimension'], ['48', '\"San Francisco (Be Sure to Wear Flowers in Your Hair)\"', 'Scott McKenzie'], ['49', '\"The Rain, the Park & Other Things\"', 'The Cowsills'], ['50', '\"There\\'s a Kind of Hush\"', \"Herman's Hermits\"], ['1', '\"Hey Jude\"', 'The Beatles'], ['2', '\"Love is Blue\"', 'Paul Mauriat'], ['3', '\"Honey\"', 'Bobby Goldsboro'], ['4', '\"(Sittin\\' On) The Dock of the Bay\"', 'Otis Redding'], ['5', '\"People Got to Be Free\"', 'The Rascals'], ['6', '\"Sunshine of Your Love\"', 'Cream'], ['7', '\"This Guy\\'s in Love with You\"', 'Herb Alpert'], ['8', '\"The Good, the Bad and the Ugly\"', 'Hugo Montenegro'], ['9', '\"Mrs. Robinson\"', 'Simon & Garfunkel'], ['10', '\"Tighten Up\"', 'Archie Bell & the Drells'], ['11', '\"Harper Valley PTA\"', 'Jeannie C. Riley'], ['12', '\"Little Green Apples\"', 'O. C. Smith'], ['13', '\"Mony Mony\"', 'Tommy James and the Shondells'], ['14', '\"Hello, I Love You\"', 'The Doors'], ['15', '\"Young Girl\"', 'Gary Puckett & The Union Gap'], ['16', '\"Cry Like a Baby\"', 'The Box Tops'], ['17', '\"Stoned Soul Picnic”', 'The 5th Dimension'], ['18', '\"Grazing in the Grass\"', 'Hugh Masekela'], ['19', '\"Midnight Confessions\"', 'The Grass Roots'], ['20', '\"Dance to the Music\"', 'Sly and the Family Stone'], ['21', '\"The Horse\"', 'Cliff Nobles'], ['22', '\"I Wish It Would Rain\"', 'The Temptations'], ['23', '\"La-La (Means I Love You)\"', 'The Delfonics'], ['24', '\"Turn Around, Look at Me\"', 'The Vogues'], ['25', '\"Judy in Disguise (With Glasses)\"', 'John Fred & His Playboy Band'], ['26', '\"Spooky\"', 'Classics IV'], ['27', '\"Love Child\"', 'The Supremes'], ['28', '\"Angel of the Morning\"', 'Merrilee Rush'], ['29', '\"The Ballad of Bonnie and Clyde\"', 'Georgie Fame'], ['30', '\"Those Were the Days\"', 'Mary Hopkin'], ['31', '\"Born to Be Wild\"', 'Steppenwolf'], ['32', '\"Cowboys to Girls\"', 'The Intruders'], ['33', '\"Simon Says\"', '1910 Fruitgum Company'], ['34', '\"Lady Willpower\"', 'Gary Puckett & The Union Gap'], ['35', '\"A Beautiful Morning\"', 'The Rascals'], ['36', '\"The Look of Love\"', 'Sérgio Mendes'], ['37', '\"Hold Me Tight\"', 'Johnny Nash'], ['38', '\"Yummy Yummy Yummy\"', 'Ohio Express'], ['39', '\"Fire\"', 'The Crazy World of Arthur Brown'], ['40', '\"Love Is All Around\"', 'The Troggs'], ['41', '\"Playboy\"', 'Gene & Debbe'], ['42', '\"(Theme from) Valley of the Dolls\"', 'Dionne Warwick'], ['43', '\"Classical Gas\"', 'Mason Williams'], ['44', '\"Slip Away\"', 'Clarence Carter'], ['45', '\"Girl Watcher\"', \"The O'Kaysions\"], ['46', '\"(Sweet Sweet Baby) Since You\\'ve Been Gone\"', 'Aretha Franklin'], ['47', '\"Green Tambourine\"', 'The Lemon Pipers'], ['48', '\"1, 2, 3, Red Light\"', '1910 Fruitgum Company'], ['49', '\"Reach Out of the Darkness\"', 'Friend & Lover'], ['50', '\"Jumpin\\' Jack Flash\"', 'The Rolling Stones'], ['1', '\"Sugar, Sugar\"', 'The Archies'], ['2', '\"Aquarius/Let the Sunshine In\"', 'The 5th Dimension'], ['3', '\"I Can\\'t Get Next to You\"', 'The Temptations'], ['4', '\"Honky Tonk Women\"', 'The Rolling Stones'], ['5', '\"Everyday People\"', 'Sly and the Family Stone'], ['6', '\"Dizzy\"', 'Tommy Roe'], ['7', '\"Hot Fun in the Summertime\"', 'Sly and the Family Stone'], ['8', '\"I\\'ll Never Fall in Love Again\"', 'Tom Jones'], ['9', '\"Build Me Up Buttercup\"', 'The Foundations'], ['10', '\"Crimson and Clover\"', 'Tommy James and the Shondells'], ['11', '\"One\"', 'Three Dog Night'], ['12', '\"Crystal Blue Persuasion\"', 'Tommy James and the Shondells'], ['13', '\"Hair\"', 'The Cowsills'], ['14', '\"Too Busy Thinking About My Baby\"', 'Marvin Gaye'], ['15', '\"Love Theme from Romeo and Juliet\"', 'Henry Mancini'], ['16', '\"Get Together\"', 'The Youngbloods'], ['17', '\"Grazing in the Grass\"', 'The Friends of Distinction'], ['18', '\"Suspicious Minds\"', 'Elvis Presley'], ['19', '\"Proud Mary\"', 'Creedence Clearwater Revival'], ['20', '\"What Does It Take (To Win Your Love)\"', 'Jr. Walker & The All Stars'], ['21', '\"It\\'s Your Thing\"', 'The Isley Brothers'], ['22', '\"Sweet Caroline\"', 'Neil Diamond'], ['23', '\"Jean\"', 'Oliver'], ['24', '\"Bad Moon Rising\"', 'Creedence Clearwater Revival'], ['25', '\"Get Back\"', 'The BeatleswithBilly Preston'], ['26', '\"In the Year 2525\"', 'Zager & Evans'], ['27', '\"Spinning Wheel\"', 'Blood, Sweat & Tears'], ['28', '\"Baby, I Love You\"', 'Andy Kim'], ['29', '\"Going in Circles\"', 'The Friends of Distinction'], ['30', '\"Hurt So Bad\"', 'The Lettermen'], ['31', '\"Green River\"', 'Creedence Clearwater Revival'], ['32', '\"My Cherie Amour\"', 'Stevie Wonder'], ['33', '\"Easy to Be Hard\"', 'Three Dog Night'], ['34', '\"Baby It\\'s You\"', 'Smith'], ['35', '\"In the Ghetto\"', 'Elvis Presley'], ['36', '\"A Boy Named Sue\"', 'Johnny Cash'], ['37', '\"Baby, Baby Don\\'t Cry\"', 'The Miracles'], ['38', '\"Only the Strong Survive\"', 'Jerry Butler'], ['39', '\"Time of the Season\"', 'The Zombies'], ['40', '\"Wedding Bell Blues\"', 'The 5th Dimension'], ['41', '\"Little Woman\"', 'Bobby Sherman'], ['42', '\"Love (Can Make You Happy)\"', 'Mercy'], ['43', '\"Good Morning Starshine\"', 'Oliver'], ['44', '\"These Eyes\"', 'The Guess Who'], ['45', '\"You\\'ve Made Me So Very Happy\"', 'Blood, Sweat & Tears'], ['46', '\"Put a Little Love in Your Heart\"', 'Jackie DeShannon'], ['47', '\"Do Your Thing\"', 'Charles Wright & the Watts 103rd Street Rhythm Band'], ['48', '\"I\\'d Wait a Million Years\"', 'The Grass Roots'], ['49', '\"Touch Me\"', 'The Doors'], ['50', '\"More Today Than Yesterday\"', 'Spiral Starecase']]\n"
     ]
    }
   ],
   "source": [
    "print(list1960s)"
   ]
  },
  {
   "cell_type": "markdown",
   "metadata": {},
   "source": [
    "**Part 2: Now that we have our song/artist data neatly stored in lists for each decade, we can retrieve lyrics for each song from the genius API.**"
   ]
  },
  {
   "cell_type": "code",
   "execution_count": 43,
   "metadata": {},
   "outputs": [],
   "source": [
    "from nltk.tokenize import word_tokenize\n",
    "import string\n",
    "from nltk.corpus import stopwords\n",
    "\n",
    "stop_words = set(stopwords.words('english'))\n",
    "def get_clean_words(text, exclude_words=[]):\n",
    "    \"\"\"Given some text, return a list of clean words.\n",
    "    \n",
    "    Input\n",
    "    -----\n",
    "        text : str\n",
    "        exclude_words : list\n",
    "            Words to exclude (e.g. characters own name)\n",
    "    \n",
    "    Output\n",
    "    ------\n",
    "        words : list\n",
    "        \n",
    "    Example\n",
    "    -------\n",
    "        >>> my_text = get_clean_text('Iron Man', 'heroes')\n",
    "        >>> my_words = get_clean_words(my_text, exclude_words=['Iron', 'Man'])\n",
    "    \"\"\"\n",
    "\n",
    "    # Extract words\n",
    "    words = word_tokenize(text)\n",
    "    \n",
    "    # Add exclude words to words to give it same treatment\n",
    "    words += exclude_words\n",
    "    \n",
    "    # Convert to lower case\n",
    "    words = [w.lower() for w in words]\n",
    "    \n",
    "    # Clear punctuation\n",
    "    table = str.maketrans('', '', string.punctuation)\n",
    "    words = [w.translate(table) for w in words]\n",
    "    \n",
    "    # Seperate words and exclude words\n",
    "    if len(exclude_words) > 0:\n",
    "        exclude_words = words[-len(exclude_words):]\n",
    "        words = words[:-len(exclude_words)]\n",
    "    \n",
    "    # Remove non-alphabetic words\n",
    "    words = [w for w in words if w.isalpha()]\n",
    "    \n",
    "    # Remove stop words\n",
    "    words = [w for w in words if not w in stop_words | set(exclude_words)]\n",
    "    \n",
    "    # Remove single letter words \n",
    "    words = [w for w in words if len(w) > 1]\n",
    "\n",
    "    return words"
   ]
  },
  {
   "cell_type": "code",
   "execution_count": 46,
   "metadata": {},
   "outputs": [
    {
     "name": "stdout",
     "output_type": "stream",
     "text": [
      "Searching for \"\"Breathe\"\" by Faith Hill...\n",
      "Done.\n",
      "['contributorsbreathe', 'lyrics', 'intro', 'feel', 'magic', 'floating', 'air', 'gets', 'way', 'watch', 'sunlight', 'dance', 'across', 'face', 'ive', 'never', 'swept', 'away', 'verse', 'thoughts', 'seem', 'settle', 'breeze', 'lying', 'wrapped', 'arms', 'whole', 'world', 'fades', 'away', 'thing', 'hear', 'beating', 'heart', 'chorus', 'feel', 'breathe', 'washing', 'suddenly', 'melting', 'nothing', 'left', 'prove', 'baby', 'need', 'caught', 'touch', 'slow', 'steady', 'rush', 'baby', 'nt', 'way', 'love', 'supposed', 'feel', 'breathe', 'breathe', 'verse', 'way', 'know', 'heart', 'waking', 'walls', 'come', 'tumbling', 'closer', 'ever', 'felt', 'know', 'know', 'need', 'words', 'right', 'might', 'also', 'like', 'chorus', 'feel', 'breathe', 'washing', 'suddenly', 'melting', 'nothing', 'left', 'prove', 'baby', 'need', 'caught', 'touch', 'slow', 'steady', 'rush', 'baby', 'nt', 'way', 'love', 'supposed', 'feel', 'breathe', 'breathe', 'instrumental', 'bridge', 'chorus', 'caught', 'touch', 'slow', 'steady', 'rush', 'baby', 'nt', 'way', 'love', 'supposed', 'feel', 'breathe', 'breathe', 'outro', 'feel', 'magic', 'floating', 'air', 'gets']\n",
      "\n",
      "7 ContributorsBreathe Lyrics[Intro]\n",
      "I can feel the magic floating in the air\n",
      "Being with you gets me that way\n",
      "I watch the sunlight dance across your face and I've\n",
      "Never been this swept away\n",
      "\n",
      "[Verse 1]\n",
      "All my thoughts just seem to settle on the breeze\n",
      "When I'm lying wrapped up in your arms\n",
      "The whole world just fades away\n",
      "The only thing I hear\n",
      "Is the beating of your heart\n",
      "\n",
      "[Chorus]\n",
      "And I can feel you breathe, it's washing over me\n",
      "And suddenly, I'm melting into you\n",
      "There's nothing left to prove\n",
      "Baby, all we need is just to be\n",
      "Caught up in the touch, slow and steady rush\n",
      "Baby, isn't that the way that love's supposed to be?\n",
      "I can feel you breathe\n",
      "Just breathe\n",
      "\n",
      "[Verse 2]\n",
      "In a way, I know my heart is waking up\n",
      "As all the walls come tumbling down\n",
      "I'm closer than I've ever felt before\n",
      "And I know, and you know\n",
      "There's no need for words right now\n",
      "You might also like[Chorus]\n",
      "And I can feel you breathe, it's washing over me\n",
      "And suddenly, I'm melting into you\n",
      "There's nothing left to prove\n",
      "Baby, all we need is just to be\n",
      "Caught up in the touch, slow and steady rush\n",
      "Baby, isn't that the way that love's supposed to be?\n",
      "I can feel you breathe\n",
      "Just breathe\n",
      "\n",
      "[Instrumental Bridge]\n",
      "\n",
      "[Chorus]\n",
      "Caught up in the touch\n",
      "The slow and steady rush\n",
      "Baby, isn't that the way that love's supposed to be?\n",
      "I can feel you breathe\n",
      "Just breathe\n",
      "\n",
      "[Outro]\n",
      "I can feel the magic floating in the air\n",
      "Being with you gets me that way7Embed\n"
     ]
    }
   ],
   "source": [
    "import lyricsgenius\n",
    "\n",
    "# create an instance of the Genius API (using given access token)\n",
    "genius = lyricsgenius.Genius(\"5b5PhvCQxiBbHpKVRH4V7_O4bb-o6UNhUkDg35VvSxmFa-wdoGTsgCinzcrLiIn1\")\n",
    "\n",
    "\n",
    "\n",
    "# loop through each song in the list and search for its lyrics\n",
    "\"\"\"\n",
    "for songInfo in list1960s:\n",
    "    title = songInfo[1]\n",
    "    artist = songInfo[2]\n",
    "    \n",
    "    song = genius.search_song(title, artist)\n",
    "    \n",
    "\"\"\"\n",
    "\n",
    "test = scrapeBillboardYear(2000)\n",
    "\n",
    "song = genius.search_song(test[0][1], test[0][2])\n",
    "\n",
    "lyrics = get_clean_words(song.lyrics)\n",
    "print(lyrics)\n",
    "print()\n",
    "print(song.lyrics)\n"
   ]
  },
  {
   "cell_type": "code",
   "execution_count": null,
   "metadata": {},
   "outputs": [],
   "source": []
  }
 ],
 "metadata": {
  "kernelspec": {
   "display_name": "Python 3 (ipykernel)",
   "language": "python",
   "name": "python3"
  },
  "language_info": {
   "codemirror_mode": {
    "name": "ipython",
    "version": 3
   },
   "file_extension": ".py",
   "mimetype": "text/x-python",
   "name": "python",
   "nbconvert_exporter": "python",
   "pygments_lexer": "ipython3",
   "version": "3.11.4"
  },
  "nav_menu": {},
  "toc": {
   "base_numbering": 1,
   "nav_menu": {},
   "number_sections": false,
   "sideBar": true,
   "skip_h1_title": false,
   "title_cell": "Table of Contents",
   "title_sidebar": "Contents",
   "toc_cell": false,
   "toc_position": {},
   "toc_section_display": "block",
   "toc_window_display": true
  },
  "varInspector": {
   "cols": {
    "lenName": 16,
    "lenType": 16,
    "lenVar": 40
   },
   "kernels_config": {
    "python": {
     "delete_cmd_postfix": "",
     "delete_cmd_prefix": "del ",
     "library": "var_list.py",
     "varRefreshCmd": "print(var_dic_list())"
    },
    "r": {
     "delete_cmd_postfix": ") ",
     "delete_cmd_prefix": "rm(",
     "library": "var_list.r",
     "varRefreshCmd": "cat(var_dic_list()) "
    }
   },
   "types_to_exclude": [
    "module",
    "function",
    "builtin_function_or_method",
    "instance",
    "_Feature"
   ],
   "window_display": false
  }
 },
 "nbformat": 4,
 "nbformat_minor": 2
}
